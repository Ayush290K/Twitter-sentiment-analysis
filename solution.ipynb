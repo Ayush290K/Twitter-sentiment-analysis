{
 "cells": [
  {
   "cell_type": "code",
   "execution_count": 1,
   "id": "5e370591",
   "metadata": {},
   "outputs": [],
   "source": [
    "import pandas as pd\n",
    "from sklearn.ensemble import RandomForestClassifier\n",
    "from nltk.classify.scikitlearn import SklearnClassifier\n",
    "from sklearn.feature_extraction.text import CountVectorizer\n",
    "from sklearn.feature_extraction.text import TfidfVectorizer\n",
    "import nltk\n",
    "import numpy as np"
   ]
  },
  {
   "cell_type": "code",
   "execution_count": 2,
   "id": "e173ad55",
   "metadata": {},
   "outputs": [],
   "source": [
    "training_data = pd.read_csv('twitter train.csv')\n",
    "testing_data = pd.read_csv('twitter test.csv')"
   ]
  },
  {
   "cell_type": "code",
   "execution_count": 3,
   "id": "5f323b21",
   "metadata": {},
   "outputs": [],
   "source": [
    "training_documents=training_data['text'].values\n",
    "training_categories=training_data['airline_sentiment'].values\n",
    "testing_documents=testing_data['text'].values"
   ]
  },
  {
   "cell_type": "code",
   "execution_count": 4,
   "id": "23e309f0",
   "metadata": {},
   "outputs": [],
   "source": [
    "count_vect=TfidfVectorizer(max_features=5000, max_df=0.8, min_df=0.001)\n",
    "x_train=count_vect.fit_transform(training_documents)\n",
    "x_test=count_vect.transform(testing_documents)\n",
    "y_train=training_categories"
   ]
  },
  {
   "cell_type": "code",
   "execution_count": 5,
   "id": "9542b9ca",
   "metadata": {},
   "outputs": [],
   "source": [
    "clf=RandomForestClassifier(n_estimators=2000, n_jobs=-1)\n",
    "clf.fit(x_train, y_train)\n",
    "y_test=clf.predict(x_test)"
   ]
  },
  {
   "cell_type": "code",
   "execution_count": 6,
   "id": "1a19df75",
   "metadata": {},
   "outputs": [],
   "source": [
    "np.savetxt(fname='predict11.csv', X=y_test, fmt='%s')"
   ]
  },
  {
   "cell_type": "code",
   "execution_count": null,
   "id": "d321dd2d",
   "metadata": {},
   "outputs": [],
   "source": []
  }
 ],
 "metadata": {
  "kernelspec": {
   "display_name": "Python 3 (ipykernel)",
   "language": "python",
   "name": "python3"
  },
  "language_info": {
   "codemirror_mode": {
    "name": "ipython",
    "version": 3
   },
   "file_extension": ".py",
   "mimetype": "text/x-python",
   "name": "python",
   "nbconvert_exporter": "python",
   "pygments_lexer": "ipython3",
   "version": "3.9.7"
  }
 },
 "nbformat": 4,
 "nbformat_minor": 5
}
